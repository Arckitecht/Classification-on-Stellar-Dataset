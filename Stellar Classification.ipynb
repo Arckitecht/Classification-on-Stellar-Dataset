{
  "nbformat": 4,
  "nbformat_minor": 0,
  "metadata": {
    "colab": {
      "provenance": []
    },
    "kernelspec": {
      "name": "python3",
      "display_name": "Python 3"
    },
    "language_info": {
      "name": "python"
    }
  },
  "cells": [
    {
      "cell_type": "markdown",
      "source": [
        "**Project Details**\n",
        "\n",
        "| | Details |\n",
        "|----------|---------|\n",
        "| Author   | Alfrethanov Christian Wijaya |\n",
        "| Dataset  | Star3642_balanced.csv |\n",
        "| Goal     | Perform classification on Stellar dataset with HR Classification system. |"
      ],
      "metadata": {
        "id": "Zle3knLwS10B"
      }
    },
    {
      "cell_type": "markdown",
      "source": [
        "# Business Understanding\n",
        "### Klasifikasi Stellar menggunakan data spektral bintang untuk mengkategorikannya ke dalam kategori yang berbeda. Sistem klasifikasi bintang modern dikenal sebagai sistem klasifikasi Morgan–Keenan (MK). Ini menggunakan sistem klasifikasi HR lama untuk mengkategorikan bintang dengan kromatisitasnya dan menggunakan angka Romawi untuk mengkategorikan ukuran bintang. Dalam Dataset ini, kita akan menggunakan Magnitudo Absolut dan Indeks Warna B-V untuk Mengidentifikasi Raksasa dan Kurcaci. Pada Dataset ini memiliki beberapa fitur dari bintang. \n",
        "  1. Vmag Visual magnitude dari bintang.\n",
        "  2. Plx Jarak antara bintang dan bumi.\n",
        "  3. e_Plx Standar error dari Plx.\n",
        "  4. B-V Warna index (Bintang panas memiliki indeks warna B-V mendekati \n",
        "  0 atau negatif, sedangkan bintang dingin memiliki indeks warna B-V \n",
        "  mendekati 2,0).\n",
        "  5. SpType Tipe Sprektral\n",
        "  6. Amag Besaran mutlak bintang\n",
        "  7. TargetClass Penentu apakah bintang kerdil (0) atau raksasa (1)\n",
        "\n",
        "### Jadi pada dataset ini akan menentukan suatu klasifikasi suatu stellar atau bintang itu raksasa ataupun kerdil berdasarkan fitur-fitur data yang ada.\n",
        "\n",
        "\n"
      ],
      "metadata": {
        "id": "7Vks67VrLgX1"
      }
    },
    {
      "cell_type": "markdown",
      "source": [
        "# Import Dataset From Google Drive (CSV)"
      ],
      "metadata": {
        "id": "o6FeIKrRllsE"
      }
    },
    {
      "cell_type": "markdown",
      "source": [
        "## Data Understanding"
      ],
      "metadata": {
        "id": "lVdcaFSGL97i"
      }
    },
    {
      "cell_type": "code",
      "execution_count": null,
      "metadata": {
        "id": "_JazByL1cI1V"
      },
      "outputs": [],
      "source": [
        "# Import library-library yang dibutuhkan\n",
        "import matplotlib.pyplot as plt\n",
        "from sklearn.model_selection import train_test_split\n",
        "from sklearn.metrics import classification_report\n",
        "import seaborn as sns\n",
        "import pandas as pd\n",
        "import numpy as np\n",
        "import scipy"
      ]
    },
    {
      "cell_type": "code",
      "source": [
        "dataset = pd.read_csv('Star3642_balanced.csv')\n",
        "dataset.head()"
      ],
      "metadata": {
        "id": "MtRhKw7adDYS",
        "colab": {
          "base_uri": "https://localhost:8080/",
          "height": 206
        },
        "outputId": "cf016ad8-f19e-4c0d-d17b-db7a43736a87"
      },
      "execution_count": null,
      "outputs": [
        {
          "output_type": "execute_result",
          "data": {
            "text/plain": [
              "   Vmag    Plx  e_Plx    B-V SpType       Amag  TargetClass\n",
              "0  5.99  13.73   0.58  1.318  K5III  16.678352            0\n",
              "1  8.70   2.31   1.29 -0.045   B1II  15.518060            0\n",
              "2  5.77   5.50   1.03  0.855  G5III  14.471813            0\n",
              "3  6.72   5.26   0.74 -0.015    B7V  15.324928            1\n",
              "4  8.76  13.44   1.16  0.584    G0V  19.401997            1"
            ],
            "text/html": [
              "\n",
              "  <div id=\"df-117fab65-deb9-4968-917e-8d5afe9ecc51\">\n",
              "    <div class=\"colab-df-container\">\n",
              "      <div>\n",
              "<style scoped>\n",
              "    .dataframe tbody tr th:only-of-type {\n",
              "        vertical-align: middle;\n",
              "    }\n",
              "\n",
              "    .dataframe tbody tr th {\n",
              "        vertical-align: top;\n",
              "    }\n",
              "\n",
              "    .dataframe thead th {\n",
              "        text-align: right;\n",
              "    }\n",
              "</style>\n",
              "<table border=\"1\" class=\"dataframe\">\n",
              "  <thead>\n",
              "    <tr style=\"text-align: right;\">\n",
              "      <th></th>\n",
              "      <th>Vmag</th>\n",
              "      <th>Plx</th>\n",
              "      <th>e_Plx</th>\n",
              "      <th>B-V</th>\n",
              "      <th>SpType</th>\n",
              "      <th>Amag</th>\n",
              "      <th>TargetClass</th>\n",
              "    </tr>\n",
              "  </thead>\n",
              "  <tbody>\n",
              "    <tr>\n",
              "      <th>0</th>\n",
              "      <td>5.99</td>\n",
              "      <td>13.73</td>\n",
              "      <td>0.58</td>\n",
              "      <td>1.318</td>\n",
              "      <td>K5III</td>\n",
              "      <td>16.678352</td>\n",
              "      <td>0</td>\n",
              "    </tr>\n",
              "    <tr>\n",
              "      <th>1</th>\n",
              "      <td>8.70</td>\n",
              "      <td>2.31</td>\n",
              "      <td>1.29</td>\n",
              "      <td>-0.045</td>\n",
              "      <td>B1II</td>\n",
              "      <td>15.518060</td>\n",
              "      <td>0</td>\n",
              "    </tr>\n",
              "    <tr>\n",
              "      <th>2</th>\n",
              "      <td>5.77</td>\n",
              "      <td>5.50</td>\n",
              "      <td>1.03</td>\n",
              "      <td>0.855</td>\n",
              "      <td>G5III</td>\n",
              "      <td>14.471813</td>\n",
              "      <td>0</td>\n",
              "    </tr>\n",
              "    <tr>\n",
              "      <th>3</th>\n",
              "      <td>6.72</td>\n",
              "      <td>5.26</td>\n",
              "      <td>0.74</td>\n",
              "      <td>-0.015</td>\n",
              "      <td>B7V</td>\n",
              "      <td>15.324928</td>\n",
              "      <td>1</td>\n",
              "    </tr>\n",
              "    <tr>\n",
              "      <th>4</th>\n",
              "      <td>8.76</td>\n",
              "      <td>13.44</td>\n",
              "      <td>1.16</td>\n",
              "      <td>0.584</td>\n",
              "      <td>G0V</td>\n",
              "      <td>19.401997</td>\n",
              "      <td>1</td>\n",
              "    </tr>\n",
              "  </tbody>\n",
              "</table>\n",
              "</div>\n",
              "      <button class=\"colab-df-convert\" onclick=\"convertToInteractive('df-117fab65-deb9-4968-917e-8d5afe9ecc51')\"\n",
              "              title=\"Convert this dataframe to an interactive table.\"\n",
              "              style=\"display:none;\">\n",
              "        \n",
              "  <svg xmlns=\"http://www.w3.org/2000/svg\" height=\"24px\"viewBox=\"0 0 24 24\"\n",
              "       width=\"24px\">\n",
              "    <path d=\"M0 0h24v24H0V0z\" fill=\"none\"/>\n",
              "    <path d=\"M18.56 5.44l.94 2.06.94-2.06 2.06-.94-2.06-.94-.94-2.06-.94 2.06-2.06.94zm-11 1L8.5 8.5l.94-2.06 2.06-.94-2.06-.94L8.5 2.5l-.94 2.06-2.06.94zm10 10l.94 2.06.94-2.06 2.06-.94-2.06-.94-.94-2.06-.94 2.06-2.06.94z\"/><path d=\"M17.41 7.96l-1.37-1.37c-.4-.4-.92-.59-1.43-.59-.52 0-1.04.2-1.43.59L10.3 9.45l-7.72 7.72c-.78.78-.78 2.05 0 2.83L4 21.41c.39.39.9.59 1.41.59.51 0 1.02-.2 1.41-.59l7.78-7.78 2.81-2.81c.8-.78.8-2.07 0-2.86zM5.41 20L4 18.59l7.72-7.72 1.47 1.35L5.41 20z\"/>\n",
              "  </svg>\n",
              "      </button>\n",
              "      \n",
              "  <style>\n",
              "    .colab-df-container {\n",
              "      display:flex;\n",
              "      flex-wrap:wrap;\n",
              "      gap: 12px;\n",
              "    }\n",
              "\n",
              "    .colab-df-convert {\n",
              "      background-color: #E8F0FE;\n",
              "      border: none;\n",
              "      border-radius: 50%;\n",
              "      cursor: pointer;\n",
              "      display: none;\n",
              "      fill: #1967D2;\n",
              "      height: 32px;\n",
              "      padding: 0 0 0 0;\n",
              "      width: 32px;\n",
              "    }\n",
              "\n",
              "    .colab-df-convert:hover {\n",
              "      background-color: #E2EBFA;\n",
              "      box-shadow: 0px 1px 2px rgba(60, 64, 67, 0.3), 0px 1px 3px 1px rgba(60, 64, 67, 0.15);\n",
              "      fill: #174EA6;\n",
              "    }\n",
              "\n",
              "    [theme=dark] .colab-df-convert {\n",
              "      background-color: #3B4455;\n",
              "      fill: #D2E3FC;\n",
              "    }\n",
              "\n",
              "    [theme=dark] .colab-df-convert:hover {\n",
              "      background-color: #434B5C;\n",
              "      box-shadow: 0px 1px 3px 1px rgba(0, 0, 0, 0.15);\n",
              "      filter: drop-shadow(0px 1px 2px rgba(0, 0, 0, 0.3));\n",
              "      fill: #FFFFFF;\n",
              "    }\n",
              "  </style>\n",
              "\n",
              "      <script>\n",
              "        const buttonEl =\n",
              "          document.querySelector('#df-117fab65-deb9-4968-917e-8d5afe9ecc51 button.colab-df-convert');\n",
              "        buttonEl.style.display =\n",
              "          google.colab.kernel.accessAllowed ? 'block' : 'none';\n",
              "\n",
              "        async function convertToInteractive(key) {\n",
              "          const element = document.querySelector('#df-117fab65-deb9-4968-917e-8d5afe9ecc51');\n",
              "          const dataTable =\n",
              "            await google.colab.kernel.invokeFunction('convertToInteractive',\n",
              "                                                     [key], {});\n",
              "          if (!dataTable) return;\n",
              "\n",
              "          const docLinkHtml = 'Like what you see? Visit the ' +\n",
              "            '<a target=\"_blank\" href=https://colab.research.google.com/notebooks/data_table.ipynb>data table notebook</a>'\n",
              "            + ' to learn more about interactive tables.';\n",
              "          element.innerHTML = '';\n",
              "          dataTable['output_type'] = 'display_data';\n",
              "          await google.colab.output.renderOutput(dataTable, element);\n",
              "          const docLink = document.createElement('div');\n",
              "          docLink.innerHTML = docLinkHtml;\n",
              "          element.appendChild(docLink);\n",
              "        }\n",
              "      </script>\n",
              "    </div>\n",
              "  </div>\n",
              "  "
            ]
          },
          "metadata": {},
          "execution_count": 4
        }
      ]
    },
    {
      "cell_type": "code",
      "source": [
        "dataset.describe()"
      ],
      "metadata": {
        "colab": {
          "base_uri": "https://localhost:8080/",
          "height": 300
        },
        "id": "DjCkhhStK5iX",
        "outputId": "a5d4026f-d92f-41b8-ca0c-0ef58fae0f77"
      },
      "execution_count": null,
      "outputs": [
        {
          "output_type": "execute_result",
          "data": {
            "text/plain": [
              "              Vmag          Plx        e_Plx          B-V         Amag  \\\n",
              "count  3642.000000  3642.000000  3642.000000  3642.000000  3642.000000   \n",
              "mean      8.120530     7.606153     1.176568     0.827077    16.427388   \n",
              "std       1.338875    11.924052     0.919999     0.436699     2.428144   \n",
              "min       0.450000    -6.820000     0.470000    -0.196000     2.820000   \n",
              "25%       7.370000     2.740000     0.840000     0.487250    15.150312   \n",
              "50%       8.390000     4.950000     1.040000     0.867000    16.392485   \n",
              "75%       9.060000     8.670000     1.270000     1.136000    18.029836   \n",
              "max      12.490000   280.270000    30.290000     2.530000    29.249165   \n",
              "\n",
              "       TargetClass  \n",
              "count  3642.000000  \n",
              "mean      0.500000  \n",
              "std       0.500069  \n",
              "min       0.000000  \n",
              "25%       0.000000  \n",
              "50%       0.500000  \n",
              "75%       1.000000  \n",
              "max       1.000000  "
            ],
            "text/html": [
              "\n",
              "  <div id=\"df-896b89bc-6a26-4d7c-b82d-26876bfc8be1\">\n",
              "    <div class=\"colab-df-container\">\n",
              "      <div>\n",
              "<style scoped>\n",
              "    .dataframe tbody tr th:only-of-type {\n",
              "        vertical-align: middle;\n",
              "    }\n",
              "\n",
              "    .dataframe tbody tr th {\n",
              "        vertical-align: top;\n",
              "    }\n",
              "\n",
              "    .dataframe thead th {\n",
              "        text-align: right;\n",
              "    }\n",
              "</style>\n",
              "<table border=\"1\" class=\"dataframe\">\n",
              "  <thead>\n",
              "    <tr style=\"text-align: right;\">\n",
              "      <th></th>\n",
              "      <th>Vmag</th>\n",
              "      <th>Plx</th>\n",
              "      <th>e_Plx</th>\n",
              "      <th>B-V</th>\n",
              "      <th>Amag</th>\n",
              "      <th>TargetClass</th>\n",
              "    </tr>\n",
              "  </thead>\n",
              "  <tbody>\n",
              "    <tr>\n",
              "      <th>count</th>\n",
              "      <td>3642.000000</td>\n",
              "      <td>3642.000000</td>\n",
              "      <td>3642.000000</td>\n",
              "      <td>3642.000000</td>\n",
              "      <td>3642.000000</td>\n",
              "      <td>3642.000000</td>\n",
              "    </tr>\n",
              "    <tr>\n",
              "      <th>mean</th>\n",
              "      <td>8.120530</td>\n",
              "      <td>7.606153</td>\n",
              "      <td>1.176568</td>\n",
              "      <td>0.827077</td>\n",
              "      <td>16.427388</td>\n",
              "      <td>0.500000</td>\n",
              "    </tr>\n",
              "    <tr>\n",
              "      <th>std</th>\n",
              "      <td>1.338875</td>\n",
              "      <td>11.924052</td>\n",
              "      <td>0.919999</td>\n",
              "      <td>0.436699</td>\n",
              "      <td>2.428144</td>\n",
              "      <td>0.500069</td>\n",
              "    </tr>\n",
              "    <tr>\n",
              "      <th>min</th>\n",
              "      <td>0.450000</td>\n",
              "      <td>-6.820000</td>\n",
              "      <td>0.470000</td>\n",
              "      <td>-0.196000</td>\n",
              "      <td>2.820000</td>\n",
              "      <td>0.000000</td>\n",
              "    </tr>\n",
              "    <tr>\n",
              "      <th>25%</th>\n",
              "      <td>7.370000</td>\n",
              "      <td>2.740000</td>\n",
              "      <td>0.840000</td>\n",
              "      <td>0.487250</td>\n",
              "      <td>15.150312</td>\n",
              "      <td>0.000000</td>\n",
              "    </tr>\n",
              "    <tr>\n",
              "      <th>50%</th>\n",
              "      <td>8.390000</td>\n",
              "      <td>4.950000</td>\n",
              "      <td>1.040000</td>\n",
              "      <td>0.867000</td>\n",
              "      <td>16.392485</td>\n",
              "      <td>0.500000</td>\n",
              "    </tr>\n",
              "    <tr>\n",
              "      <th>75%</th>\n",
              "      <td>9.060000</td>\n",
              "      <td>8.670000</td>\n",
              "      <td>1.270000</td>\n",
              "      <td>1.136000</td>\n",
              "      <td>18.029836</td>\n",
              "      <td>1.000000</td>\n",
              "    </tr>\n",
              "    <tr>\n",
              "      <th>max</th>\n",
              "      <td>12.490000</td>\n",
              "      <td>280.270000</td>\n",
              "      <td>30.290000</td>\n",
              "      <td>2.530000</td>\n",
              "      <td>29.249165</td>\n",
              "      <td>1.000000</td>\n",
              "    </tr>\n",
              "  </tbody>\n",
              "</table>\n",
              "</div>\n",
              "      <button class=\"colab-df-convert\" onclick=\"convertToInteractive('df-896b89bc-6a26-4d7c-b82d-26876bfc8be1')\"\n",
              "              title=\"Convert this dataframe to an interactive table.\"\n",
              "              style=\"display:none;\">\n",
              "        \n",
              "  <svg xmlns=\"http://www.w3.org/2000/svg\" height=\"24px\"viewBox=\"0 0 24 24\"\n",
              "       width=\"24px\">\n",
              "    <path d=\"M0 0h24v24H0V0z\" fill=\"none\"/>\n",
              "    <path d=\"M18.56 5.44l.94 2.06.94-2.06 2.06-.94-2.06-.94-.94-2.06-.94 2.06-2.06.94zm-11 1L8.5 8.5l.94-2.06 2.06-.94-2.06-.94L8.5 2.5l-.94 2.06-2.06.94zm10 10l.94 2.06.94-2.06 2.06-.94-2.06-.94-.94-2.06-.94 2.06-2.06.94z\"/><path d=\"M17.41 7.96l-1.37-1.37c-.4-.4-.92-.59-1.43-.59-.52 0-1.04.2-1.43.59L10.3 9.45l-7.72 7.72c-.78.78-.78 2.05 0 2.83L4 21.41c.39.39.9.59 1.41.59.51 0 1.02-.2 1.41-.59l7.78-7.78 2.81-2.81c.8-.78.8-2.07 0-2.86zM5.41 20L4 18.59l7.72-7.72 1.47 1.35L5.41 20z\"/>\n",
              "  </svg>\n",
              "      </button>\n",
              "      \n",
              "  <style>\n",
              "    .colab-df-container {\n",
              "      display:flex;\n",
              "      flex-wrap:wrap;\n",
              "      gap: 12px;\n",
              "    }\n",
              "\n",
              "    .colab-df-convert {\n",
              "      background-color: #E8F0FE;\n",
              "      border: none;\n",
              "      border-radius: 50%;\n",
              "      cursor: pointer;\n",
              "      display: none;\n",
              "      fill: #1967D2;\n",
              "      height: 32px;\n",
              "      padding: 0 0 0 0;\n",
              "      width: 32px;\n",
              "    }\n",
              "\n",
              "    .colab-df-convert:hover {\n",
              "      background-color: #E2EBFA;\n",
              "      box-shadow: 0px 1px 2px rgba(60, 64, 67, 0.3), 0px 1px 3px 1px rgba(60, 64, 67, 0.15);\n",
              "      fill: #174EA6;\n",
              "    }\n",
              "\n",
              "    [theme=dark] .colab-df-convert {\n",
              "      background-color: #3B4455;\n",
              "      fill: #D2E3FC;\n",
              "    }\n",
              "\n",
              "    [theme=dark] .colab-df-convert:hover {\n",
              "      background-color: #434B5C;\n",
              "      box-shadow: 0px 1px 3px 1px rgba(0, 0, 0, 0.15);\n",
              "      filter: drop-shadow(0px 1px 2px rgba(0, 0, 0, 0.3));\n",
              "      fill: #FFFFFF;\n",
              "    }\n",
              "  </style>\n",
              "\n",
              "      <script>\n",
              "        const buttonEl =\n",
              "          document.querySelector('#df-896b89bc-6a26-4d7c-b82d-26876bfc8be1 button.colab-df-convert');\n",
              "        buttonEl.style.display =\n",
              "          google.colab.kernel.accessAllowed ? 'block' : 'none';\n",
              "\n",
              "        async function convertToInteractive(key) {\n",
              "          const element = document.querySelector('#df-896b89bc-6a26-4d7c-b82d-26876bfc8be1');\n",
              "          const dataTable =\n",
              "            await google.colab.kernel.invokeFunction('convertToInteractive',\n",
              "                                                     [key], {});\n",
              "          if (!dataTable) return;\n",
              "\n",
              "          const docLinkHtml = 'Like what you see? Visit the ' +\n",
              "            '<a target=\"_blank\" href=https://colab.research.google.com/notebooks/data_table.ipynb>data table notebook</a>'\n",
              "            + ' to learn more about interactive tables.';\n",
              "          element.innerHTML = '';\n",
              "          dataTable['output_type'] = 'display_data';\n",
              "          await google.colab.output.renderOutput(dataTable, element);\n",
              "          const docLink = document.createElement('div');\n",
              "          docLink.innerHTML = docLinkHtml;\n",
              "          element.appendChild(docLink);\n",
              "        }\n",
              "      </script>\n",
              "    </div>\n",
              "  </div>\n",
              "  "
            ]
          },
          "metadata": {},
          "execution_count": 5
        }
      ]
    },
    {
      "cell_type": "markdown",
      "source": [
        "# Encoding Data\n",
        "## Encode data value from object to numerical"
      ],
      "metadata": {
        "id": "5WcXwF3slwM9"
      }
    },
    {
      "cell_type": "code",
      "source": [
        "from sklearn.preprocessing import LabelEncoder\n",
        "\n",
        "encoder = LabelEncoder() \n",
        "\n",
        "for c in dataset.columns[0:]:  \n",
        "    if(dataset[c].dtype=='object'): \n",
        "        dataset[c] = encoder.fit_transform(dataset[c])\n",
        "    else: \n",
        "        dataset[c] = dataset[c]\n",
        "\n",
        "dataset.head() "
      ],
      "metadata": {
        "id": "KYHeQnvgf7Fj",
        "colab": {
          "base_uri": "https://localhost:8080/",
          "height": 206
        },
        "outputId": "0d0753e5-5331-4bbf-838a-176869d7c342"
      },
      "execution_count": null,
      "outputs": [
        {
          "output_type": "execute_result",
          "data": {
            "text/plain": [
              "   Vmag    Plx  e_Plx    B-V  SpType       Amag  TargetClass\n",
              "0  5.99  13.73   0.58  1.318     522  16.678352            0\n",
              "1  8.70   2.31   1.29 -0.045      99  15.518060            0\n",
              "2  5.77   5.50   1.03  0.855     337  14.471813            0\n",
              "3  6.72   5.26   0.74 -0.015     150  15.324928            1\n",
              "4  8.76  13.44   1.16  0.584     293  19.401997            1"
            ],
            "text/html": [
              "\n",
              "  <div id=\"df-82f9c41f-3cbb-4363-9ee7-498a5aad56f1\">\n",
              "    <div class=\"colab-df-container\">\n",
              "      <div>\n",
              "<style scoped>\n",
              "    .dataframe tbody tr th:only-of-type {\n",
              "        vertical-align: middle;\n",
              "    }\n",
              "\n",
              "    .dataframe tbody tr th {\n",
              "        vertical-align: top;\n",
              "    }\n",
              "\n",
              "    .dataframe thead th {\n",
              "        text-align: right;\n",
              "    }\n",
              "</style>\n",
              "<table border=\"1\" class=\"dataframe\">\n",
              "  <thead>\n",
              "    <tr style=\"text-align: right;\">\n",
              "      <th></th>\n",
              "      <th>Vmag</th>\n",
              "      <th>Plx</th>\n",
              "      <th>e_Plx</th>\n",
              "      <th>B-V</th>\n",
              "      <th>SpType</th>\n",
              "      <th>Amag</th>\n",
              "      <th>TargetClass</th>\n",
              "    </tr>\n",
              "  </thead>\n",
              "  <tbody>\n",
              "    <tr>\n",
              "      <th>0</th>\n",
              "      <td>5.99</td>\n",
              "      <td>13.73</td>\n",
              "      <td>0.58</td>\n",
              "      <td>1.318</td>\n",
              "      <td>522</td>\n",
              "      <td>16.678352</td>\n",
              "      <td>0</td>\n",
              "    </tr>\n",
              "    <tr>\n",
              "      <th>1</th>\n",
              "      <td>8.70</td>\n",
              "      <td>2.31</td>\n",
              "      <td>1.29</td>\n",
              "      <td>-0.045</td>\n",
              "      <td>99</td>\n",
              "      <td>15.518060</td>\n",
              "      <td>0</td>\n",
              "    </tr>\n",
              "    <tr>\n",
              "      <th>2</th>\n",
              "      <td>5.77</td>\n",
              "      <td>5.50</td>\n",
              "      <td>1.03</td>\n",
              "      <td>0.855</td>\n",
              "      <td>337</td>\n",
              "      <td>14.471813</td>\n",
              "      <td>0</td>\n",
              "    </tr>\n",
              "    <tr>\n",
              "      <th>3</th>\n",
              "      <td>6.72</td>\n",
              "      <td>5.26</td>\n",
              "      <td>0.74</td>\n",
              "      <td>-0.015</td>\n",
              "      <td>150</td>\n",
              "      <td>15.324928</td>\n",
              "      <td>1</td>\n",
              "    </tr>\n",
              "    <tr>\n",
              "      <th>4</th>\n",
              "      <td>8.76</td>\n",
              "      <td>13.44</td>\n",
              "      <td>1.16</td>\n",
              "      <td>0.584</td>\n",
              "      <td>293</td>\n",
              "      <td>19.401997</td>\n",
              "      <td>1</td>\n",
              "    </tr>\n",
              "  </tbody>\n",
              "</table>\n",
              "</div>\n",
              "      <button class=\"colab-df-convert\" onclick=\"convertToInteractive('df-82f9c41f-3cbb-4363-9ee7-498a5aad56f1')\"\n",
              "              title=\"Convert this dataframe to an interactive table.\"\n",
              "              style=\"display:none;\">\n",
              "        \n",
              "  <svg xmlns=\"http://www.w3.org/2000/svg\" height=\"24px\"viewBox=\"0 0 24 24\"\n",
              "       width=\"24px\">\n",
              "    <path d=\"M0 0h24v24H0V0z\" fill=\"none\"/>\n",
              "    <path d=\"M18.56 5.44l.94 2.06.94-2.06 2.06-.94-2.06-.94-.94-2.06-.94 2.06-2.06.94zm-11 1L8.5 8.5l.94-2.06 2.06-.94-2.06-.94L8.5 2.5l-.94 2.06-2.06.94zm10 10l.94 2.06.94-2.06 2.06-.94-2.06-.94-.94-2.06-.94 2.06-2.06.94z\"/><path d=\"M17.41 7.96l-1.37-1.37c-.4-.4-.92-.59-1.43-.59-.52 0-1.04.2-1.43.59L10.3 9.45l-7.72 7.72c-.78.78-.78 2.05 0 2.83L4 21.41c.39.39.9.59 1.41.59.51 0 1.02-.2 1.41-.59l7.78-7.78 2.81-2.81c.8-.78.8-2.07 0-2.86zM5.41 20L4 18.59l7.72-7.72 1.47 1.35L5.41 20z\"/>\n",
              "  </svg>\n",
              "      </button>\n",
              "      \n",
              "  <style>\n",
              "    .colab-df-container {\n",
              "      display:flex;\n",
              "      flex-wrap:wrap;\n",
              "      gap: 12px;\n",
              "    }\n",
              "\n",
              "    .colab-df-convert {\n",
              "      background-color: #E8F0FE;\n",
              "      border: none;\n",
              "      border-radius: 50%;\n",
              "      cursor: pointer;\n",
              "      display: none;\n",
              "      fill: #1967D2;\n",
              "      height: 32px;\n",
              "      padding: 0 0 0 0;\n",
              "      width: 32px;\n",
              "    }\n",
              "\n",
              "    .colab-df-convert:hover {\n",
              "      background-color: #E2EBFA;\n",
              "      box-shadow: 0px 1px 2px rgba(60, 64, 67, 0.3), 0px 1px 3px 1px rgba(60, 64, 67, 0.15);\n",
              "      fill: #174EA6;\n",
              "    }\n",
              "\n",
              "    [theme=dark] .colab-df-convert {\n",
              "      background-color: #3B4455;\n",
              "      fill: #D2E3FC;\n",
              "    }\n",
              "\n",
              "    [theme=dark] .colab-df-convert:hover {\n",
              "      background-color: #434B5C;\n",
              "      box-shadow: 0px 1px 3px 1px rgba(0, 0, 0, 0.15);\n",
              "      filter: drop-shadow(0px 1px 2px rgba(0, 0, 0, 0.3));\n",
              "      fill: #FFFFFF;\n",
              "    }\n",
              "  </style>\n",
              "\n",
              "      <script>\n",
              "        const buttonEl =\n",
              "          document.querySelector('#df-82f9c41f-3cbb-4363-9ee7-498a5aad56f1 button.colab-df-convert');\n",
              "        buttonEl.style.display =\n",
              "          google.colab.kernel.accessAllowed ? 'block' : 'none';\n",
              "\n",
              "        async function convertToInteractive(key) {\n",
              "          const element = document.querySelector('#df-82f9c41f-3cbb-4363-9ee7-498a5aad56f1');\n",
              "          const dataTable =\n",
              "            await google.colab.kernel.invokeFunction('convertToInteractive',\n",
              "                                                     [key], {});\n",
              "          if (!dataTable) return;\n",
              "\n",
              "          const docLinkHtml = 'Like what you see? Visit the ' +\n",
              "            '<a target=\"_blank\" href=https://colab.research.google.com/notebooks/data_table.ipynb>data table notebook</a>'\n",
              "            + ' to learn more about interactive tables.';\n",
              "          element.innerHTML = '';\n",
              "          dataTable['output_type'] = 'display_data';\n",
              "          await google.colab.output.renderOutput(dataTable, element);\n",
              "          const docLink = document.createElement('div');\n",
              "          docLink.innerHTML = docLinkHtml;\n",
              "          element.appendChild(docLink);\n",
              "        }\n",
              "      </script>\n",
              "    </div>\n",
              "  </div>\n",
              "  "
            ]
          },
          "metadata": {},
          "execution_count": 6
        }
      ]
    },
    {
      "cell_type": "markdown",
      "source": [
        "# Splitting Data"
      ],
      "metadata": {
        "id": "0FUWCaMemHxW"
      }
    },
    {
      "cell_type": "code",
      "source": [
        "from sklearn.model_selection import train_test_split\n",
        "\n",
        "y = dataset['TargetClass']\n",
        "x = dataset.drop(['TargetClass', 'Vmag', 'Plx', 'Amag', 'e_Plx'], axis = 1)\n",
        "\n",
        "# Split the dataset to trainand test data\n",
        "train_x, test_x, train_y, test_y = train_test_split(x, y, train_size=0.8, random_state=0)"
      ],
      "metadata": {
        "id": "SImzhiG3dwwf"
      },
      "execution_count": null,
      "outputs": []
    },
    {
      "cell_type": "markdown",
      "source": [
        "# Normalization Data"
      ],
      "metadata": {
        "id": "WUk4mScll_Ao"
      }
    },
    {
      "cell_type": "code",
      "source": [
        "from sklearn.preprocessing import StandardScaler\n",
        "\n",
        "scaler = StandardScaler()\n",
        "train_x = scaler.fit_transform(train_x)\n",
        "test_x = scaler.transform(test_x)"
      ],
      "metadata": {
        "id": "YvqSpkrFjcVR"
      },
      "execution_count": null,
      "outputs": []
    },
    {
      "cell_type": "markdown",
      "source": [
        "# K-Nearest Neighbors (Modelling)"
      ],
      "metadata": {
        "id": "GhchdNYNmMGG"
      }
    },
    {
      "cell_type": "code",
      "source": [
        "from sklearn.neighbors import KNeighborsClassifier\n",
        "\n",
        "parameters = {\n",
        "    \"algorithm\" : \"auto\",\n",
        "    \"leaf_size\" : 30,\n",
        "    \"metric\" : \"euclidean\",\n",
        "    \"metric_params\" : None,\n",
        "    \"n_jobs\" : 1,\n",
        "    \"n_neighbors\" : 6,\n",
        "    \"p\": 2,\n",
        "    \"weights\" : \"uniform\"\n",
        "}\n",
        "\n",
        "KNN = KNeighborsClassifier(**parameters)"
      ],
      "metadata": {
        "id": "71--YdSjnPgs"
      },
      "execution_count": null,
      "outputs": []
    },
    {
      "cell_type": "code",
      "source": [
        "KNN.fit(train_x, train_y)"
      ],
      "metadata": {
        "id": "txWRUNW4nSix",
        "colab": {
          "base_uri": "https://localhost:8080/",
          "height": 75
        },
        "outputId": "fcb0b4e5-a22b-426c-974c-e6f2ca1ae467"
      },
      "execution_count": null,
      "outputs": [
        {
          "output_type": "execute_result",
          "data": {
            "text/plain": [
              "KNeighborsClassifier(metric='euclidean', n_jobs=1, n_neighbors=6)"
            ],
            "text/html": [
              "<style>#sk-container-id-1 {color: black;background-color: white;}#sk-container-id-1 pre{padding: 0;}#sk-container-id-1 div.sk-toggleable {background-color: white;}#sk-container-id-1 label.sk-toggleable__label {cursor: pointer;display: block;width: 100%;margin-bottom: 0;padding: 0.3em;box-sizing: border-box;text-align: center;}#sk-container-id-1 label.sk-toggleable__label-arrow:before {content: \"▸\";float: left;margin-right: 0.25em;color: #696969;}#sk-container-id-1 label.sk-toggleable__label-arrow:hover:before {color: black;}#sk-container-id-1 div.sk-estimator:hover label.sk-toggleable__label-arrow:before {color: black;}#sk-container-id-1 div.sk-toggleable__content {max-height: 0;max-width: 0;overflow: hidden;text-align: left;background-color: #f0f8ff;}#sk-container-id-1 div.sk-toggleable__content pre {margin: 0.2em;color: black;border-radius: 0.25em;background-color: #f0f8ff;}#sk-container-id-1 input.sk-toggleable__control:checked~div.sk-toggleable__content {max-height: 200px;max-width: 100%;overflow: auto;}#sk-container-id-1 input.sk-toggleable__control:checked~label.sk-toggleable__label-arrow:before {content: \"▾\";}#sk-container-id-1 div.sk-estimator input.sk-toggleable__control:checked~label.sk-toggleable__label {background-color: #d4ebff;}#sk-container-id-1 div.sk-label input.sk-toggleable__control:checked~label.sk-toggleable__label {background-color: #d4ebff;}#sk-container-id-1 input.sk-hidden--visually {border: 0;clip: rect(1px 1px 1px 1px);clip: rect(1px, 1px, 1px, 1px);height: 1px;margin: -1px;overflow: hidden;padding: 0;position: absolute;width: 1px;}#sk-container-id-1 div.sk-estimator {font-family: monospace;background-color: #f0f8ff;border: 1px dotted black;border-radius: 0.25em;box-sizing: border-box;margin-bottom: 0.5em;}#sk-container-id-1 div.sk-estimator:hover {background-color: #d4ebff;}#sk-container-id-1 div.sk-parallel-item::after {content: \"\";width: 100%;border-bottom: 1px solid gray;flex-grow: 1;}#sk-container-id-1 div.sk-label:hover label.sk-toggleable__label {background-color: #d4ebff;}#sk-container-id-1 div.sk-serial::before {content: \"\";position: absolute;border-left: 1px solid gray;box-sizing: border-box;top: 0;bottom: 0;left: 50%;z-index: 0;}#sk-container-id-1 div.sk-serial {display: flex;flex-direction: column;align-items: center;background-color: white;padding-right: 0.2em;padding-left: 0.2em;position: relative;}#sk-container-id-1 div.sk-item {position: relative;z-index: 1;}#sk-container-id-1 div.sk-parallel {display: flex;align-items: stretch;justify-content: center;background-color: white;position: relative;}#sk-container-id-1 div.sk-item::before, #sk-container-id-1 div.sk-parallel-item::before {content: \"\";position: absolute;border-left: 1px solid gray;box-sizing: border-box;top: 0;bottom: 0;left: 50%;z-index: -1;}#sk-container-id-1 div.sk-parallel-item {display: flex;flex-direction: column;z-index: 1;position: relative;background-color: white;}#sk-container-id-1 div.sk-parallel-item:first-child::after {align-self: flex-end;width: 50%;}#sk-container-id-1 div.sk-parallel-item:last-child::after {align-self: flex-start;width: 50%;}#sk-container-id-1 div.sk-parallel-item:only-child::after {width: 0;}#sk-container-id-1 div.sk-dashed-wrapped {border: 1px dashed gray;margin: 0 0.4em 0.5em 0.4em;box-sizing: border-box;padding-bottom: 0.4em;background-color: white;}#sk-container-id-1 div.sk-label label {font-family: monospace;font-weight: bold;display: inline-block;line-height: 1.2em;}#sk-container-id-1 div.sk-label-container {text-align: center;}#sk-container-id-1 div.sk-container {/* jupyter's `normalize.less` sets `[hidden] { display: none; }` but bootstrap.min.css set `[hidden] { display: none !important; }` so we also need the `!important` here to be able to override the default hidden behavior on the sphinx rendered scikit-learn.org. See: https://github.com/scikit-learn/scikit-learn/issues/21755 */display: inline-block !important;position: relative;}#sk-container-id-1 div.sk-text-repr-fallback {display: none;}</style><div id=\"sk-container-id-1\" class=\"sk-top-container\"><div class=\"sk-text-repr-fallback\"><pre>KNeighborsClassifier(metric=&#x27;euclidean&#x27;, n_jobs=1, n_neighbors=6)</pre><b>In a Jupyter environment, please rerun this cell to show the HTML representation or trust the notebook. <br />On GitHub, the HTML representation is unable to render, please try loading this page with nbviewer.org.</b></div><div class=\"sk-container\" hidden><div class=\"sk-item\"><div class=\"sk-estimator sk-toggleable\"><input class=\"sk-toggleable__control sk-hidden--visually\" id=\"sk-estimator-id-1\" type=\"checkbox\" checked><label for=\"sk-estimator-id-1\" class=\"sk-toggleable__label sk-toggleable__label-arrow\">KNeighborsClassifier</label><div class=\"sk-toggleable__content\"><pre>KNeighborsClassifier(metric=&#x27;euclidean&#x27;, n_jobs=1, n_neighbors=6)</pre></div></div></div></div></div>"
            ]
          },
          "metadata": {},
          "execution_count": 10
        }
      ]
    },
    {
      "cell_type": "code",
      "source": [
        "KNN_Predictions = KNN.predict(test_x)"
      ],
      "metadata": {
        "id": "t332QtfGn7hp"
      },
      "execution_count": null,
      "outputs": []
    },
    {
      "cell_type": "code",
      "source": [
        "from sklearn.metrics import confusion_matrix\n",
        "from sklearn.metrics import classification_report\n",
        "\n",
        "matrix = confusion_matrix(test_y, KNN_Predictions,labels=[1,0])\n",
        "print('<------- Confusion matrix ------->\\n', matrix)"
      ],
      "metadata": {
        "id": "PLGPbf-YoLeH",
        "colab": {
          "base_uri": "https://localhost:8080/"
        },
        "outputId": "acbfd88b-15f5-431f-ff72-d829dead728d"
      },
      "execution_count": null,
      "outputs": [
        {
          "output_type": "stream",
          "name": "stdout",
          "text": [
            "<------- Confusion matrix ------->\n",
            " [[320  39]\n",
            " [ 42 328]]\n"
          ]
        }
      ]
    },
    {
      "cell_type": "code",
      "source": [
        "tp, fn, fp, tn = confusion_matrix(test_y, KNN_Predictions,labels=[1,0]).reshape(-1)\n",
        "print(f'<-------- Outcome values -------->\\n True Positive (TP) \\t: {tp} \\n False Negative (FN) \\t: {fn} \\n False Positive (FP) \\t: {fp} \\n True Negative (TN) \\t: {tn}')"
      ],
      "metadata": {
        "id": "fICGVLV2oeSb",
        "colab": {
          "base_uri": "https://localhost:8080/"
        },
        "outputId": "4313d3ec-f092-4662-d766-2576c4bcb550"
      },
      "execution_count": null,
      "outputs": [
        {
          "output_type": "stream",
          "name": "stdout",
          "text": [
            "<-------- Outcome values -------->\n",
            " True Positive (TP) \t: 320 \n",
            " False Negative (FN) \t: 39 \n",
            " False Positive (FP) \t: 42 \n",
            " True Negative (TN) \t: 328\n"
          ]
        }
      ]
    },
    {
      "cell_type": "code",
      "source": [
        "matrix = classification_report(test_y, KNN_Predictions,labels=[1,0])\n",
        "print('<--------------- Classification report --------------->\\n', matrix)"
      ],
      "metadata": {
        "id": "Oh7K7tD0ol41",
        "colab": {
          "base_uri": "https://localhost:8080/"
        },
        "outputId": "aae81ce3-bd9c-41ec-adf9-8c1bcb0c5c44"
      },
      "execution_count": null,
      "outputs": [
        {
          "output_type": "stream",
          "name": "stdout",
          "text": [
            "<--------------- Classification report --------------->\n",
            "               precision    recall  f1-score   support\n",
            "\n",
            "           1       0.88      0.89      0.89       359\n",
            "           0       0.89      0.89      0.89       370\n",
            "\n",
            "    accuracy                           0.89       729\n",
            "   macro avg       0.89      0.89      0.89       729\n",
            "weighted avg       0.89      0.89      0.89       729\n",
            "\n"
          ]
        }
      ]
    },
    {
      "cell_type": "code",
      "source": [
        "import matplotlib.pyplot as plt\n",
        "from sklearn import metrics\n",
        "\n",
        "confusion_matrix = metrics.confusion_matrix(test_y, KNN_Predictions)\n",
        "\n",
        "cm_display = metrics.ConfusionMatrixDisplay(confusion_matrix = confusion_matrix, display_labels = [False, True])\n",
        "\n",
        "cm_display.plot()\n",
        "plt.show()"
      ],
      "metadata": {
        "id": "h2pO6NXlosse",
        "colab": {
          "base_uri": "https://localhost:8080/",
          "height": 449
        },
        "outputId": "8ab3016b-6c96-4802-e808-fd92e8253136"
      },
      "execution_count": null,
      "outputs": [
        {
          "output_type": "display_data",
          "data": {
            "text/plain": [
              "<Figure size 640x480 with 2 Axes>"
            ],
            "image/png": "[encoded data removed]"
          },
          "metadata": {}
        }
      ]
    },
    {
      "cell_type": "code",
      "source": [
        "print(x)"
      ],
      "metadata": {
        "colab": {
          "base_uri": "https://localhost:8080/"
        },
        "id": "rxC_kpCacwVw",
        "outputId": "0a7a8df6-d8e1-427c-b5e4-46a1b65b6d21"
      },
      "execution_count": null,
      "outputs": [
        {
          "output_type": "stream",
          "name": "stdout",
          "text": [
            "        B-V  SpType\n",
            "0     1.318     522\n",
            "1    -0.045      99\n",
            "2     0.855     337\n",
            "3    -0.015     150\n",
            "4     0.584     293\n",
            "...     ...     ...\n",
            "3637  1.786     515\n",
            "3638  0.408     208\n",
            "3639  1.664     539\n",
            "3640  0.210      53\n",
            "3641  1.176     454\n",
            "\n",
            "[3642 rows x 2 columns]\n"
          ]
        }
      ]
    },
    {
      "cell_type": "markdown",
      "source": [
        "# Visualization"
      ],
      "metadata": {
        "id": "thgtBfpzeyWN"
      }
    },
    {
      "cell_type": "code",
      "source": [
        "from matplotlib.axes._axes import _log as matplotlib_axes_logger\n",
        "matplotlib_axes_logger.setLevel('ERROR')\n",
        "\n",
        "from matplotlib.colors import ListedColormap\n",
        "x_set, y_set = test_x, test_y\n",
        "y_set_one_dimension = y_set\n",
        "\n",
        "x1,x2 = np.meshgrid(np.arange(start = x_set[:,0].min()-1, stop = x_set[:,0].max()+1, step = 0.1),\n",
        "                    np.arange(start = x_set[:,1].min()-1, stop = x_set[:,1].max()+1, step = 0.1))\n",
        "plt.contourf(x1,x2, KNN.predict(np.array([x1.ravel(), x2.ravel()]).T).reshape(x1.shape),\n",
        "            alpha = 0.5, cmap = ListedColormap(('red','blue')))\n",
        "\n",
        "for i, j in enumerate (np.unique(y_set)):\n",
        "  plt.scatter(x_set[y_set_one_dimension == j, 0], x_set[y_set_one_dimension == j, 1],\n",
        "              c = ListedColormap(('red','blue'))(i), label = j)\n",
        "plt.title('Stellar Classification')\n",
        "plt.xlabel('B-V')\n",
        "plt.ylabel('SpType')\n",
        "plt.legend()\n",
        "plt.show()"
      ],
      "metadata": {
        "colab": {
          "base_uri": "https://localhost:8080/",
          "height": 527
        },
        "id": "mVAIye-cZR9g",
        "outputId": "22a55d71-4b8a-4ffe-b843-1073aa35fa77"
      },
      "execution_count": null,
      "outputs": [
        {
          "output_type": "stream",
          "name": "stderr",
          "text": [
            "<ipython-input-17-74e7615f9297>:14: UserWarning: *c* argument looks like a single numeric RGB or RGBA sequence, which should be avoided as value-mapping will have precedence in case its length matches with *x* & *y*.  Please use the *color* keyword-argument or provide a 2D array with a single row if you intend to specify the same RGB or RGBA value for all points.\n",
            "  plt.scatter(x_set[y_set_one_dimension == j, 0], x_set[y_set_one_dimension == j, 1],\n"
          ]
        },
        {
          "output_type": "display_data",
          "data": {
            "text/plain": [
              "<Figure size 640x480 with 1 Axes>"
            ],
            "image/png": "[encoded data removed]"
          },
          "metadata": {}
        }
      ]
    }
  ]
}